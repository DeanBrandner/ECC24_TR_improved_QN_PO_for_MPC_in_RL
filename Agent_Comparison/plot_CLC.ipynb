{
 "cells": [
  {
   "cell_type": "code",
   "execution_count": null,
   "metadata": {},
   "outputs": [],
   "source": [
    "import numpy as np\n",
    "import pickle\n",
    "\n",
    "from matplotlib import pyplot as plt"
   ]
  },
  {
   "cell_type": "code",
   "execution_count": null,
   "metadata": {},
   "outputs": [],
   "source": [
    "def plot_clc(clc_list: list, path: str, label_list: list = []):\n",
    "    k = 0.7\n",
    "    nrows = 1\n",
    "    ncols = 2\n",
    "    fig, ax = plt.subplots(nrows = nrows, ncols = ncols, figsize = (k * 5* ncols, k * 5 * nrows), dpi = 300, constrained_layout = True)\n",
    "\n",
    "    ax[0].plot(clc_list[0], label = label_list[0], linestyle = \"dotted\", color = \"black\")\n",
    "    ax[1].plot(clc_list[0], linestyle = \"dotted\", color = \"black\")\n",
    "\n",
    "    ax[0].plot(clc_list[1], label = label_list[1], linestyle = \"dashed\", color = \"black\",)\n",
    "    ax[0].plot(clc_list[2], label = label_list[2], color = \"black\")\n",
    "\n",
    "    ax[1].plot(clc_list[3], linestyle = \"dashed\", color = \"black\")\n",
    "    ax[1].plot(clc_list[4], color = \"black\")\n",
    "\n",
    "\n",
    "    ax[0].set_title(\"First Order\", fontsize = 16)\n",
    "    ax[1].set_title(\"Second Order\", fontsize = 16)\n",
    "\n",
    "    fig.legend(loc='outside lower center', fontsize = 14, ncol=3)\n",
    "    ax[0].set_ylabel(r\"Closed loop cost $J\\left(\\theta_j\\right)$\", fontsize = 16)\n",
    "\n",
    "    for axis in ax:\n",
    "        axis.set_ylim([10, 30])\n",
    "        axis.set_yticks([10, 15, 20, 25, 30])\n",
    "        axis.set_yticklabels([10, 15, 20, 25, 30], fontsize = 14)\n",
    "        \n",
    "        axis.set_xlabel(r\"RL Iteration $j$\", fontsize = 16)\n",
    "\n",
    "        axis.set_xticks([0, 10, 20, 30, 40])\n",
    "        axis.set_xticklabels([0, 10, 20, 30, 40], fontsize = 14)\n",
    "\n",
    "    plt.savefig(path)\n",
    "    return"
   ]
  },
  {
   "cell_type": "code",
   "execution_count": null,
   "metadata": {},
   "outputs": [],
   "source": [
    "methods_list = [\"GD_MPC\", \"TRGD_MPC\", \"QN_MPC\", \"TRQN_MPC\"]\n",
    "label_list = [\"Benchmark MPC\", \"Without TR\", \"With TR\", \"Without TR\", \"With TR (Proposed)\"]\n",
    "\n",
    "n_epochs = 40\n",
    "\n",
    "clc_list = []\n",
    "    \n",
    "for item in methods_list:\n",
    "    with open(f\"data\\\\agent\\\\{item}\\\\cl_cost.pkl\", \"rb\") as f:\n",
    "        clc = pickle.load(f)\n",
    "    clc_list.append(clc)\n",
    "\n",
    "averaged_clc_list = [np.array([11.901]*n_epochs)]\n",
    "for item in clc_list:\n",
    "    item = np.array(item)\n",
    "    item = np.array_split(item, n_epochs).copy()\n",
    "    item = np.vstack(item)\n",
    "    item = np.mean(item, axis = -1)\n",
    "    averaged_clc_list.append(item)\n",
    "\n",
    "plot_clc(\n",
    "    clc_list = averaged_clc_list,\n",
    "    path = \"figs\\\\clc_training_all.png\",\n",
    "    label_list = label_list\n",
    ")"
   ]
  }
 ],
 "metadata": {
  "kernelspec": {
   "display_name": "ECC24_TRQNRL_for_MPC",
   "language": "python",
   "name": "python3"
  },
  "language_info": {
   "name": "python",
   "version": "3.11.5"
  }
 },
 "nbformat": 4,
 "nbformat_minor": 2
}
